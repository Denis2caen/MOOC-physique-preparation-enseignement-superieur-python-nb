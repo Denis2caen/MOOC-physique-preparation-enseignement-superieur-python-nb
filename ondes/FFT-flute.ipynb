{
 "cells": [
  {
   "cell_type": "code",
   "execution_count": null,
   "metadata": {},
   "outputs": [],
   "source": [
    "%matplotlib notebook\n",
    "\n",
    "import numpy as np\n",
    "from numpy import fft as fft\n",
    "import scipy.io.wavfile as wav\n",
    "from matplotlib import pyplot as plt\n",
    "import mpl_toolkits.mplot3d.axes3d\n",
    "\n",
    "from IPython.display import Audio"
   ]
  },
  {
   "cell_type": "code",
   "execution_count": null,
   "metadata": {},
   "outputs": [],
   "source": [
    "filename = 'audacity-flute-alto-A440-44100.wav'\n",
    "#filename = 'guitar_A4_very-long_forte_normal.wav'\n",
    "f_sampling, sampled_wave = wav.read(filename)"
   ]
  },
  {
   "cell_type": "code",
   "execution_count": null,
   "metadata": {},
   "outputs": [],
   "source": [
    "Audio(filename)"
   ]
  },
  {
   "cell_type": "code",
   "execution_count": null,
   "metadata": {},
   "outputs": [],
   "source": [
    "N_samples = sampled_wave.size\n",
    "duration = N_samples / f_sampling"
   ]
  },
  {
   "cell_type": "code",
   "execution_count": null,
   "metadata": {},
   "outputs": [],
   "source": [
    "print(N_samples)"
   ]
  },
  {
   "cell_type": "code",
   "execution_count": null,
   "metadata": {},
   "outputs": [],
   "source": [
    "T_sampling = 1 / f_sampling\n",
    "\n",
    "t = T_sampling * np.arange(0, N_samples)\n",
    "\n",
    "fig1, ax = plt.subplots()\n",
    "\n",
    "ax.plot(t, sampled_wave)\n",
    "ax.set_xlabel(r'$t$ (s)')\n",
    "ax.set_ylabel('Amplitude (unité arbitraire)')\n",
    "fig1.show()"
   ]
  },
  {
   "cell_type": "code",
   "execution_count": null,
   "metadata": {},
   "outputs": [],
   "source": [
    "fig2, ax2 = plt.subplots()\n",
    "\n",
    "ax2.plot(t[:2**10], sampled_wave[:2**10])\n",
    "ax2.set_xlabel(r'$t$ (s)')\n",
    "ax2.set_ylabel('Amplitude (unité arbitraire)')\n",
    "fig2.show()"
   ]
  },
  {
   "cell_type": "code",
   "execution_count": null,
   "metadata": {},
   "outputs": [],
   "source": [
    "N_samples_fft = 2**10\n",
    "if N_samples_fft > N_samples:\n",
    "    print('N_samples_fft trop grand')\n",
    "amplitude_spectrum = np.abs(fft.fft(sampled_wave[:N_samples_fft]))\n",
    "phase_spectrum = np.angle(fft.fft(sampled_wave[:N_samples_fft]))\n",
    "normalized_amplitude_spectrum = amplitude_spectrum / amplitude_spectrum.max()"
   ]
  },
  {
   "cell_type": "code",
   "execution_count": null,
   "metadata": {},
   "outputs": [],
   "source": [
    "f = f_sampling * np.arange(0, N_samples_fft // 2) / N_samples_fft\n",
    "\n",
    "fig3, ax3 = plt.subplots()\n",
    "ax3.vlines(f, [0], normalized_amplitude_spectrum[:N_samples_fft // 2], 'r')\n",
    "fig3.show()"
   ]
  },
  {
   "cell_type": "code",
   "execution_count": null,
   "metadata": {},
   "outputs": [],
   "source": [
    "t_fft = T_sampling * np.arange(0, N_samples_fft)\n",
    "wave = np.zeros(N_samples_fft)\n",
    "for i in range(N_samples_fft // 2):\n",
    "    wave += amplitude_spectrum[i] * np.cos(2 * np.pi * f[i] * t_fft + phase_spectrum[i])"
   ]
  },
  {
   "cell_type": "code",
   "execution_count": null,
   "metadata": {},
   "outputs": [],
   "source": [
    "fig4, ax4 = plt.subplots()\n",
    "ax4.plot(t_fft, wave / N_samples_fft * 2)\n",
    "fig4.show()"
   ]
  },
  {
   "cell_type": "code",
   "execution_count": null,
   "metadata": {},
   "outputs": [],
   "source": []
  },
  {
   "cell_type": "code",
   "execution_count": null,
   "metadata": {},
   "outputs": [],
   "source": []
  }
 ],
 "metadata": {
  "kernelspec": {
   "display_name": "Python 3",
   "language": "python",
   "name": "python3"
  },
  "language_info": {
   "codemirror_mode": {
    "name": "ipython",
    "version": 3
   },
   "file_extension": ".py",
   "mimetype": "text/x-python",
   "name": "python",
   "nbconvert_exporter": "python",
   "pygments_lexer": "ipython3",
   "version": "3.6.6"
  }
 },
 "nbformat": 4,
 "nbformat_minor": 2
}
