{
 "cells": [
  {
   "cell_type": "code",
   "execution_count": null,
   "metadata": {},
   "outputs": [],
   "source": [
    "import math\n",
    "import numpy as np\n",
    "from matplotlib.pyplot import *\n",
    "import scipy.io.wavfile as wave\n",
    "from numpy.fft import fft\n",
    "\t\t\t\n",
    "\n",
    "rate,data = wave.read('piano_la3.wav')\n",
    "n = data.size\n",
    "duree = 1.0*n/rate\n",
    "\t\t\t\n",
    "\n",
    "te = 1.0/rate\n",
    "t = np.zeros(n)\n",
    "for k in range(n):\n",
    "    t[k] = te*k\n",
    "figure(figsize=(12,4))\n",
    "plot(t,data)\n",
    "xlabel(\"t (s)\")\n",
    "ylabel(\"amplitude\") \n",
    "axis([0,0.1,data.min(),data.max()])\n",
    "grid()\n",
    "\t\t\t\n",
    "\n",
    "def tracerSpectre(data,rate,debut,duree):\n",
    "    start = int(debut*rate)\n",
    "    stop = int((debut+duree)*rate)\n",
    "    spectre = np.absolute(fft(data[start:stop]))\n",
    "    spectre = spectre/spectre.max()\n",
    "    n = spectre.size\n",
    "    freq = np.zeros(n)\n",
    "    for k in range(n):\n",
    "        freq[k] = 1.0/n*rate*k\n",
    "    vlines(freq,[0],spectre,'r')\n",
    "    xlabel('f (Hz)')\n",
    "    ylabel('A')\n",
    "    axis([0,0.5*rate,0,1])\n",
    "    grid()\n",
    "\t\t\t\n",
    "\n",
    "figure(figsize=(12,4))\n",
    "tracerSpectre(data,rate,0.0,0.5)\n",
    "axis([0,5000,0,1])\n",
    "\t\t\t\n",
    "\n",
    "figure(figsize=(12,4))\n",
    "tracerSpectre(data,rate,2.0,0.5)\n",
    "axis([0,5000,0,1])\n",
    "\t\t"
   ]
  }
 ],
 "metadata": {
  "kernelspec": {
   "display_name": "Python 3",
   "language": "python",
   "name": "python3"
  },
  "language_info": {
   "codemirror_mode": {
    "name": "ipython",
    "version": 3
   },
   "file_extension": ".py",
   "mimetype": "text/x-python",
   "name": "python",
   "nbconvert_exporter": "python",
   "pygments_lexer": "ipython3",
   "version": "3.6.6"
  }
 },
 "nbformat": 4,
 "nbformat_minor": 2
}
