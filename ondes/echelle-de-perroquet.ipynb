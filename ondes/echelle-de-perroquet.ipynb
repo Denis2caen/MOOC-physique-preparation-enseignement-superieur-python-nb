{
 "cells": [
  {
   "cell_type": "markdown",
   "metadata": {},
   "source": [
    "Pour commencer, il faut [télécharger la vidéo](https://youtu.be/BWraEDaVXZM) produite par le _Technical Services Group_ du département de physique du [MIT](https://web.mit.edu/). Je ne peux pas vous dire _comment_ télécharger cette vidéo, mais vous trouverez sans doute !\n",
    "\n",
    "Il faut ensuite extraire les images qui nous intéressent. Pour cela, j'ai utilisé la boîte à outils [`FFMpeg`](https://www.ffmpeg.org/) qui fournit tout ce dont on a besoin pour manipuler une vidéo. `FFMpeg` présente en outre l'avantage d'être multi-plateforme, ce qui signifie que ces outils fonctionnent sous linux, macos ou windows. Un certain nombre de ces images sont stockées sur le serveur qui héberge ce _notebook_ dans le répertoire `media/echelle-perroquet`. Elles sont nommées `TSG-perroquet000034.jpg`, `TSG-perroquet000035.jpg`, ..., `TSG-perroquet000056.jpg`. Ce sont des images successives extraites de la vidéo."
   ]
  },
  {
   "cell_type": "markdown",
   "metadata": {},
   "source": [
    "Nous allons avoir besoin d'un certain nombre de bibliothèques. Comme d'habitude, on utilise `numpy` et `matplotlib`. On aura aussi besoin du paquet [`scipy.stats`](https://docs.scipy.org/doc/scipy/reference/stats.html) de la bibliothèque `scipy` qui permettra d'accéder à [`linregress`](https://docs.scipy.org/doc/scipy/reference/generated/scipy.stats.linregress.html#scipy.stats.linregress) afin de réaliser une régression linéaire."
   ]
  },
  {
   "cell_type": "code",
   "execution_count": null,
   "metadata": {},
   "outputs": [],
   "source": [
    "%matplotlib notebook\n",
    "import numpy as np\n",
    "from matplotlib import pyplot as plt\n",
    "from scipy.stats import linregress"
   ]
  },
  {
   "cell_type": "markdown",
   "metadata": {},
   "source": [
    "Pour réaliser le traitement des images, nous allons nous servir d'une nouvelle bibliothèque : [`skimage`](http://scikit-image.org/docs/stable/). \n",
    "\n",
    "* Dans le paquet [`skimage.io`](http://scikit-image.org/docs/stable/api/skimage.io.html), on se servira, d'une part, d'[`imread`](http://scikit-image.org/docs/stable/api/skimage.io.html#skimage.io.imread) (_image read_) qui permet de lire un fichier image et de stocker son contenu dans une variable et, d'autre part, d'[`imshow`](http://scikit-image.org/docs/stable/api/skimage.io.html#skimage.io.imshow) sui permet d'afficher une image.\n",
    "* Dans le paquet [`skimage.color`](http://scikit-image.org/docs/stable/api/skimage.color.html), on se servira de [`rgb2gray`](http://scikit-image.org/docs/stable/api/skimage.color.html#skimage.color.rgb2gray) qui permet d'obtenir la luminance associée à une image.\n",
    "* Dans le paquet [`skimage.feature`](http://scikit-image.org/docs/stable/api/skimage.feature.html), on se servira de [`blob_doh`](http://scikit-image.org/docs/stable/api/skimage.feature.html#skimage.feature.blob_doh) qui permet de détecter la position de « points lumineux » dans une image étant donné sa luminance."
   ]
  },
  {
   "cell_type": "code",
   "execution_count": null,
   "metadata": {},
   "outputs": [],
   "source": [
    "from skimage.io import imread, imshow\n",
    "from skimage.color import rgb2gray\n",
    "from skimage.feature import blob_doh"
   ]
  },
  {
   "cell_type": "markdown",
   "metadata": {},
   "source": [
    "Je te propose dans un premier temps de visualiser une image « brute ». Par exemple, affichons la première de la série.\n",
    "\n",
    "La prochaine cellule « stocke » l'image dans le `ndarray` `image`."
   ]
  },
  {
   "cell_type": "code",
   "execution_count": null,
   "metadata": {},
   "outputs": [],
   "source": [
    "image = imread('../media/echelle-perroquet/TSG-perroquet000034.jpg')"
   ]
  },
  {
   "cell_type": "markdown",
   "metadata": {},
   "source": [
    "L'attribut `shape` permet de connaître la forme, c'est-à-dire la dimension, du `ndarray`."
   ]
  },
  {
   "cell_type": "code",
   "execution_count": null,
   "metadata": {},
   "outputs": [],
   "source": [
    "image.shape"
   ]
  },
  {
   "cell_type": "markdown",
   "metadata": {},
   "source": [
    "On constate qu'il s'agit d'une image de `720` pixels en hauteur sur `1280` pixels en largeur. Note que c'est d'abord l'ordonnée /puis/ l'abscisse... Chaque pixel possède trois informations correspondant à la couleur : une information pour le rouge (_red_), une pour le vert (_green_) et une pour le bleu (_blue_). C'est le codage dit `rgb` de la couleur.\n",
    "\n",
    "Ensuite, on définit une figure `fig` et un système d'axes (abscisses et ordonnées) _via_ la commande `subplots` de `pyplot` (tu te rappelles : `plt` est l'alias de `pyplot`). Une fois le système d'axes défini, on peut y afficher l'image `image` à l'aide d'`imshow`."
   ]
  },
  {
   "cell_type": "code",
   "execution_count": null,
   "metadata": {},
   "outputs": [],
   "source": [
    "fig, ax = plt.subplots()\n",
    "ax.imshow(image, interpolation = 'nearest')"
   ]
  },
  {
   "cell_type": "markdown",
   "metadata": {},
   "source": [
    "Et voilà ! Bon, on voit que toute l'image n'est pas utile pour l'exploitation de l'expérience. On va donc ne s'intéresser qu'à une portion de l'image. J'ai choisi, un peu arbitrairement, les pixels compris, en ordonnées, entre les indices `280` et `550` (non compris) et, en abscisses, entre les indices `150` et `1150` (non compris). C'est le sens de la notation `image[280:550, 150:1150, :]`. Le dernier `:` sans « bornes » signifie que l'on prend toute l'information de cette dimension du `ndarray`, c'est-à-dire toute l'information de couleur pour chaque pixel."
   ]
  },
  {
   "cell_type": "code",
   "execution_count": null,
   "metadata": {},
   "outputs": [],
   "source": [
    "image2 = image[280:550, 150:1150, :]"
   ]
  },
  {
   "cell_type": "markdown",
   "metadata": {},
   "source": [
    "Affichons-là."
   ]
  },
  {
   "cell_type": "code",
   "execution_count": null,
   "metadata": {},
   "outputs": [],
   "source": [
    "fig, ax = plt.subplots()\n",
    "ax.imshow(image2, interpolation = 'nearest')"
   ]
  },
  {
   "cell_type": "markdown",
   "metadata": {},
   "source": [
    "Détectons les points lumineux à l'aide de `blob_doh` de la bibliothèque `skimage`. Je ne m'en sers pas tous les jours de cette bibliothèques. Je me suis donc nettement inspiré de ce que tu peux trouver dans la [documentation](http://scikit-image.org/docs/stable/auto_examples/features_detection/plot_blob.html). Pour être tout à fait honnête, les valeurs données à `max_sigma` et à `threshold` ont été trouvée par une méthode rudimentaire d'essais/erreurs. Si tu veux, tu peux les modifier pour voir ce que ça change."
   ]
  },
  {
   "cell_type": "code",
   "execution_count": null,
   "metadata": {},
   "outputs": [],
   "source": [
    "image2_gray = rgb2gray(image2)\n",
    "blob = blob_doh(image2_gray, max_sigma = 30, threshold = .005)"
   ]
  },
  {
   "cell_type": "markdown",
   "metadata": {},
   "source": [
    "Le résultat de la recherche est stockée dans `blob`. Il s'agit d'un `ndarray` contenant trois informations par points : son ordonnée, son abscisse et son rayon."
   ]
  },
  {
   "cell_type": "code",
   "execution_count": null,
   "metadata": {},
   "outputs": [],
   "source": [
    "x = blob[:, 1]\n",
    "y = blob[:, 0]\n",
    "r = blob[:, 2]\n",
    "\n",
    "for i in range(len(y)):\n",
    "    c = plt.Circle((x[i], y[i]), r[i], color = '#CE181E', linewidth = 2, fill = False)\n",
    "    ax.add_patch(c)"
   ]
  },
  {
   "cell_type": "code",
   "execution_count": null,
   "metadata": {},
   "outputs": [],
   "source": [
    "blob.shape"
   ]
  }
 ],
 "metadata": {
  "kernelspec": {
   "display_name": "Python 3",
   "language": "python",
   "name": "python3"
  },
  "language_info": {
   "codemirror_mode": {
    "name": "ipython",
    "version": 3
   },
   "file_extension": ".py",
   "mimetype": "text/x-python",
   "name": "python",
   "nbconvert_exporter": "python",
   "pygments_lexer": "ipython3",
   "version": "3.6.5"
  }
 },
 "nbformat": 4,
 "nbformat_minor": 2
}
