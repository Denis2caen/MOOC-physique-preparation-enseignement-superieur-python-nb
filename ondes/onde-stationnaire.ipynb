{
 "cells": [
  {
   "cell_type": "code",
   "execution_count": null,
   "metadata": {},
   "outputs": [],
   "source": [
    "%matplotlib notebook\n",
    "import numpy as np\n",
    "from matplotlib import pyplot as plt"
   ]
  },
  {
   "cell_type": "code",
   "execution_count": null,
   "metadata": {},
   "outputs": [],
   "source": [
    "L = 1\n",
    "alpha = .25\n",
    "a = 1\n",
    "\n",
    "def f_L(x):\n",
    "    if x < alpha * L:\n",
    "        return a * x / alpha\n",
    "    else:\n",
    "        return (a / (alpha - 1)) * ( x / L - 1)\n",
    "    \n",
    "def f_L(x):\n",
    "    return np.exp(-((x - alpha * L) / .05)**2)\n",
    "    \n",
    "    \n",
    "    \n",
    "def f_2L(x):\n",
    "    if x >= 0:\n",
    "        return f_L(x)\n",
    "    else:\n",
    "        return -f_L(-x)\n",
    "\n",
    "def f(x):\n",
    "    return f_2L(x - np.floor((x + L)/ (2 * L)) * 2 * L)\n",
    "\n",
    "vf_L = np.vectorize(f_L)\n",
    "vf_2L = np.vectorize(f_2L)\n",
    "vf = np.vectorize(f)\n",
    "\n",
    "x_L = np.linspace(0, L, 100)\n",
    "plt.plot(x_L, vf_L(x_L))\n",
    "\n",
    "x_2L = np.linspace(-L, L, 200)\n",
    "plt.plot(x_2L, vf_2L(x_2L))\n",
    "\n",
    "x = np.linspace(0, L, 1000)\n",
    "plt.plot(x, vf(x))\n",
    "\n",
    "plt.show()\n",
    "        "
   ]
  },
  {
   "cell_type": "code",
   "execution_count": null,
   "metadata": {},
   "outputs": [],
   "source": [
    "from matplotlib.animation import FuncAnimation\n",
    "\n",
    "fig, ax = plt.subplots()\n",
    "line1, = ax.plot(x, vf(x), 'r')\n",
    "line2, = ax.plot(x, .5 * vf(x), 'b')\n",
    "line3, = ax.plot(x, .5 * vf(x), 'g')\n",
    "\n",
    "def init():\n",
    "    #ax.set_xlim(-4 * L, 5 * L)\n",
    "    ax.set_ylim(-1, 1)\n",
    "    return line1, line2, line3,\n",
    "\n",
    "def update(frame):\n",
    "    line1.set_data(x, .5 * (vf(x + frame/100) + vf(x - frame/100)))\n",
    "    line2.set_data(x, .5 * vf(x - frame/100))\n",
    "    line3.set_data(x, .5 * vf(x + frame/100))\n",
    "    return line1, line2, line3,\n",
    "\n",
    "ani = FuncAnimation(fig, update, frames = 200,\n",
    "                    init_func=init, blit=False)"
   ]
  },
  {
   "cell_type": "code",
   "execution_count": null,
   "metadata": {},
   "outputs": [],
   "source": []
  }
 ],
 "metadata": {
  "kernelspec": {
   "display_name": "Python 3",
   "language": "python",
   "name": "python3"
  },
  "language_info": {
   "codemirror_mode": {
    "name": "ipython",
    "version": 3
   },
   "file_extension": ".py",
   "mimetype": "text/x-python",
   "name": "python",
   "nbconvert_exporter": "python",
   "pygments_lexer": "ipython3",
   "version": "3.6.6"
  }
 },
 "nbformat": 4,
 "nbformat_minor": 2
}
