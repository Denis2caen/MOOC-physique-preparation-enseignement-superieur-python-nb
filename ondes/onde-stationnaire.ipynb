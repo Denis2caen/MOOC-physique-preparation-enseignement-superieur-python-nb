{
 "cells": [
  {
   "cell_type": "markdown",
   "metadata": {},
   "source": [
    "<img src=\"media/CC-BY-NC-ND.png\" alt=\"Drawing\" style=\"width: 150px;\"/> \n",
    "\n",
    "**Auteur** : Christophe Jorssen"
   ]
  },
  {
   "cell_type": "markdown",
   "metadata": {},
   "source": [
    "Dans ce *notebook*, je te propose de mettre en œuvre la méthode que je t'ai présentée dans la vidéo qui permet de passer d'une déformation sur une longueur $L$ finie de corde à une déformation périodique de période $2L$ sur une longueur de corde infinie. On obtiendra ainsi les deux ondes progressives périodiques se propageant en sens opposés. Ces dernières pourront être décomposées en ondes progressives harmoniques qui, sommées deux à deux, donneront accès aux ondes stationnaires harmoniques."
   ]
  },
  {
   "cell_type": "markdown",
   "metadata": {},
   "source": [
    "Commençons par importer les bibliothèques nécessaires."
   ]
  },
  {
   "cell_type": "code",
   "execution_count": null,
   "metadata": {},
   "outputs": [],
   "source": [
    "%matplotlib notebook\n",
    "import numpy as np\n",
    "from matplotlib import pyplot as plt"
   ]
  },
  {
   "cell_type": "markdown",
   "metadata": {},
   "source": [
    "Commençons par définir la fonction `f_L` définie sur l'intervalle $[0, L]$. Je choisis ici la forme d'une corde de guitare pincée à une distance $\\alpha L$ (`alpha * L`) avec un champ d'élongation $a$ (`a`). Il s'agit d'une fonction affine par morceaux."
   ]
  },
  {
   "cell_type": "code",
   "execution_count": null,
   "metadata": {},
   "outputs": [],
   "source": [
    "L = 1 # m\n",
    "alpha = .25\n",
    "a = .1 # m\n",
    "\n",
    "def f_L(x):\n",
    "    if x < alpha * L:\n",
    "        return a * x / alpha\n",
    "    else:\n",
    "        return (a / (alpha - 1)) * ( x / L - 1)\n",
    "    \n",
    "#def f_L(x):\n",
    "#    return np.exp(-((x - alpha * L) / .05)**2)"
   ]
  },
  {
   "cell_type": "markdown",
   "metadata": {},
   "source": [
    "Ensuite, on définit la fonction `f_2L` définie sur l'intervalle $[-L, L]$ comme décrit dans la vidéo (si $x \\in [0, L]$, alors $f_{2L}(x) = f_L(x)$, sinon $f_{2L}(x) = - f_L(-x)$)."
   ]
  },
  {
   "cell_type": "code",
   "execution_count": null,
   "metadata": {},
   "outputs": [],
   "source": [
    "def f_2L(x):\n",
    "    if x >= 0:\n",
    "        return f_L(x)\n",
    "    else:\n",
    "        return -f_L(-x)"
   ]
  },
  {
   "cell_type": "markdown",
   "metadata": {},
   "source": [
    "Enfin, on définit la fonction `f` définie sur $]-\\infty, + \\infty[$ comme décrit dans la vidéo en périodisant la fonction $f_{2L}$. Pour cela, on utilise la fonction partie entière (`np.floor`) qui permet de ramener un réel $x$ dans l'intervalle $[-L, L]$."
   ]
  },
  {
   "cell_type": "code",
   "execution_count": null,
   "metadata": {},
   "outputs": [],
   "source": [
    "def f(x):\n",
    "    return f_2L(x - np.floor((x + L)/ (2 * L)) * 2 * L)"
   ]
  },
  {
   "cell_type": "markdown",
   "metadata": {},
   "source": [
    "Pour nous faciliter la tâche, on transforme ces fonctions de telle sorte qu'elles soient facilement utilisables avec les objets `ndarray` de `numpy` en définissant des versions [« vectorisées »](https://docs.scipy.org/doc/numpy/reference/generated/numpy.vectorize.html)."
   ]
  },
  {
   "cell_type": "code",
   "execution_count": null,
   "metadata": {},
   "outputs": [],
   "source": [
    "vf_L = np.vectorize(f_L)\n",
    "vf_2L = np.vectorize(f_2L)\n",
    "vf = np.vectorize(f)"
   ]
  },
  {
   "cell_type": "markdown",
   "metadata": {},
   "source": [
    "On trace tout ça pour vérifier."
   ]
  },
  {
   "cell_type": "code",
   "execution_count": null,
   "metadata": {},
   "outputs": [],
   "source": [
    "N = 100\n",
    "\n",
    "fig1, (ax1, ax2, ax3) = plt.subplots(3, 1, sharex = True, sharey = True)\n",
    "\n",
    "x_L = np.linspace(0, L, N)\n",
    "ax1.plot(x_L, vf_L(x_L), 'b')\n",
    "ax1.grid(which = 'both')\n",
    "ax1.set_ylabel(r'$f_L(x)$ (m)')\n",
    "\n",
    "x_2L = np.linspace(-L, L, 2 * N)\n",
    "ax2.plot(x_2L, vf_2L(x_2L), 'r')\n",
    "ax2.grid(which = 'both')\n",
    "ax2.set_ylabel(r'$f_{2L}(x)$ (m)')\n",
    "\n",
    "x = np.linspace(-3 * L, 3 * L, 3 * 2 * N)\n",
    "ax3.plot(x, vf(x), 'y')\n",
    "ax3.grid(which = 'both')\n",
    "ax3.set_ylabel(r'$f(x)$ (m)')\n",
    "ax3.set_xlabel(r'$x$ (m)')\n",
    "\n",
    "fig1.show()\n",
    "        "
   ]
  },
  {
   "cell_type": "markdown",
   "metadata": {},
   "source": [
    "Il ne reste plus qu'à faire une animation pour voir comment les ondes se comportent. En vert, on représente le champ de déplacement $u_z(x, t)$ de la corde. Il est obtenu à l'aide de la formule donnée dans la vidéo : $u_z(x, t) = \\frac{1}{2}[u_{z, \\nearrow}(x, t) + u_{z, \\searrow}(x, t)]$, avec :\n",
    "* $u_{z, \\nearrow}(x, t) = f(x - ct)$ l'onde progressive $2L$-périodique se propageant vers les $x$ croissants (en orange) ;\n",
    "* $u_{z, \\searrow}(x, t) = f(x + ct)$ l'onde progressive $2L$-périodique se propageant vers les $x$ décroissants (en violet)."
   ]
  },
  {
   "cell_type": "code",
   "execution_count": null,
   "metadata": {},
   "outputs": [],
   "source": [
    "from matplotlib.animation import FuncAnimation\n",
    "\n",
    "fig2, (ax1, ax2, ax3) = plt.subplots(3, 1, sharex = True, sharey = True)\n",
    "\n",
    "line1, = ax1.plot(x, vf(x), 'g')\n",
    "ax1.grid(which = 'both')\n",
    "ax1.set_ylabel(r'$u_z(x)$ (m)')\n",
    "\n",
    "line2, = ax2.plot(x, .5 * vf(x), 'orange')\n",
    "ax2.grid(which = 'both')\n",
    "ax2.set_ylabel(r'$u_{z, \\nearrow}(x)$ (m)')\n",
    "\n",
    "line3, = ax3.plot(x, .5 * vf(x), 'purple')\n",
    "ax3.grid(which = 'both')\n",
    "ax3.set_ylabel(r'$u_{z, \\searrow}(x)$ (m)')\n",
    "ax3.set_xlabel(r'$x$ (m)')\n",
    "\n",
    "def init():\n",
    "    ax1.set_xlim(-3 * L, 3 * L)\n",
    "    ax1.set_ylim(-a, a)\n",
    "    ax2.set_xlim(-3 * L, 3 * L)\n",
    "    ax2.set_ylim(-a, a)\n",
    "    ax3.set_xlim(-3 * L, 3 * L)\n",
    "    ax3.set_ylim(-a, a)\n",
    "    return line1, line2, line3,\n",
    "\n",
    "def update(frame):\n",
    "    line1.set_data(x, .5 * (vf(x + frame / N) + vf(x - frame / N)))\n",
    "    line2.set_data(x, .5 * vf(x - frame / N))\n",
    "    line3.set_data(x, .5 * vf(x + frame / N))\n",
    "    return line1, line2, line3,\n",
    "\n",
    "ani = FuncAnimation(fig2, update, frames = 2 * N,\n",
    "                    init_func = init, blit = False)"
   ]
  },
  {
   "cell_type": "markdown",
   "metadata": {},
   "source": [
    "Focalise-toi bien sur la partie « utile » de la courbe verte, c'est-à-dire la partie correspondant à $x \\in [0, L]$. As-tu remarqué que tout se passe comme si l'onde se *réfléchissait* aux extrémités ?"
   ]
  },
  {
   "cell_type": "code",
   "execution_count": null,
   "metadata": {},
   "outputs": [],
   "source": [
    "from scipy.integrate import quad\n",
    "\n",
    "def aFourier(i):\n",
    "    Lambda = 2 * L\n",
    "    tmp = quad(lambda x:2 * f(x) * np.cos(2 * np.pi * i * x / Lambda) / Lambda, -Lambda/2, Lambda/2)[0]\n",
    "    if i == 0:\n",
    "        return tmp / 2\n",
    "    else:\n",
    "        return tmp\n",
    "\n",
    "def bFourier(i):\n",
    "    if i == 0:\n",
    "        return 0\n",
    "    Lambda = 2 * L\n",
    "    return quad(lambda x:2 * f(x) * np.sin(2 * np.pi * i * x / Lambda) / Lambda, -Lambda/2, Lambda/2)[0]\n",
    "\n",
    "def cFourier(i):\n",
    "    return np.sqrt(aFourier(i)**2 + bFourier(i)**2)\n",
    "\n",
    "def argFourier(i):\n",
    "    return np.arctan2(bFourier(i), aFourier(i))\n",
    "\n",
    "def Harm(i, x):\n",
    "    return aFourier(i) * np.cos(2 * np.pi * i * x / (2 * L)) + bFourier(i) * np.sin(2 * np.pi * i * x / (2 * L))"
   ]
  },
  {
   "cell_type": "code",
   "execution_count": null,
   "metadata": {},
   "outputs": [],
   "source": [
    "fig3, ax = plt.subplots()\n",
    "fFourier = np.zeros(x_L.size)\n",
    "\n",
    "for i in range(10):\n",
    "    fFourier += Harm(i, x_L)\n",
    "\n",
    "ax.plot(x_L, fFourier)\n",
    "    \n",
    "fig3.show()\n"
   ]
  },
  {
   "cell_type": "code",
   "execution_count": null,
   "metadata": {},
   "outputs": [],
   "source": []
  }
 ],
 "metadata": {
  "kernelspec": {
   "display_name": "Python 3",
   "language": "python",
   "name": "python3"
  },
  "language_info": {
   "codemirror_mode": {
    "name": "ipython",
    "version": 3
   },
   "file_extension": ".py",
   "mimetype": "text/x-python",
   "name": "python",
   "nbconvert_exporter": "python",
   "pygments_lexer": "ipython3",
   "version": "3.6.6"
  },
  "notebookname": "Onde stationnaire",
  "version": "1.0"
 },
 "nbformat": 4,
 "nbformat_minor": 2
}
